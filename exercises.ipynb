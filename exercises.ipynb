{
 "cells": [
  {
   "cell_type": "code",
   "execution_count": null,
   "metadata": {
    "autoscroll": false,
    "collapsed": false,
    "ein.tags": "worksheet-0",
    "slideshow": {
     "slide_type": "-"
    }
   },
   "outputs": [],
   "source": [
    "library(readxl)\n",
    "library(MASS)\n",
    "library(magrittr)\n",
    "library(tidyverse)"
   ]
  },
  {
   "cell_type": "markdown",
   "metadata": {},
   "source": [
    "# Reading CSV's"
   ]
  },
  {
   "cell_type": "code",
   "execution_count": 2,
   "metadata": {},
   "outputs": [],
   "source": [
    "# Use read.csv and read_csv to read the files \"foo.csv\"\n",
    "# Note two differences: \n",
    "# 1. The information read_csv gives about the type of each column\n",
    "# 2. The difference in the type of the baz column (how do you get the\n",
    "# type of a column in a dataframe?)"
   ]
  },
  {
   "cell_type": "markdown",
   "metadata": {},
   "source": [
    "# Transforming Data"
   ]
  },
  {
   "cell_type": "code",
   "execution_count": 3,
   "metadata": {
    "autoscroll": false,
    "collapsed": false,
    "ein.tags": "worksheet-0",
    "slideshow": {
     "slide_type": "-"
    }
   },
   "outputs": [],
   "source": [
    "# Read the data from the file './years/oesm10in4/nat3d_M2010_dl.xls'\n",
    "# using read_excel to create a tibble. \n",
    "# Notice that in Jupyter Notebooks, pressing TAB will give you\n",
    "# autocomplete help with the filename"
   ]
  },
  {
   "cell_type": "code",
   "execution_count": 4,
   "metadata": {
    "autoscroll": false,
    "collapsed": false,
    "ein.tags": "worksheet-0",
    "slideshow": {
     "slide_type": "-"
    }
   },
   "outputs": [],
   "source": [
    "# In Jupyter Notebooks, you will need to explicitly use the\n",
    "# print() function in order to see the tibble-specific info.\n",
    "# Try printing the dataframe you read in. Try to understand\n",
    "# the types of the different columns. Are these the types\n",
    "# that make sense for the column? "
   ]
  },
  {
   "cell_type": "code",
   "execution_count": 5,
   "metadata": {},
   "outputs": [],
   "source": [
    "# Change the type of the NAICS columns to a factor"
   ]
  },
  {
   "cell_type": "code",
   "execution_count": 6,
   "metadata": {
    "autoscroll": false,
    "collapsed": false,
    "ein.tags": "worksheet-0",
    "slideshow": {
     "slide_type": "-"
    }
   },
   "outputs": [],
   "source": [
    "# Now try and get the 15 most common NAICS codes, as a vector"
   ]
  },
  {
   "cell_type": "code",
   "execution_count": 7,
   "metadata": {},
   "outputs": [],
   "source": [
    "# Filter your data to include only the 15 most common NAICS codes\n",
    "# hint: take a look at the %in% infix operator"
   ]
  },
  {
   "cell_type": "code",
   "execution_count": 196,
   "metadata": {},
   "outputs": [],
   "source": [
    "# Create a function that you can use with summarize()\n",
    "# hint: the function should take a vector and return a scalar"
   ]
  },
  {
   "cell_type": "code",
   "execution_count": 154,
   "metadata": {},
   "outputs": [
    {
     "name": "stderr",
     "output_type": "stream",
     "text": [
      "Warning message in evalq(as.numeric(A_MEDIAN), <environment>):\n",
      "“NAs introduced by coercion”"
     ]
    }
   ],
   "source": [
    "dat <- read_excel('./years/oesm10in4/nat3d_M2010_dl.xls')\n",
    "\n",
    "dat <- dat %>% mutate(NAICS = as.factor(NAICS), A_MEDIAN = as.numeric(A_MEDIAN))\n",
    "\n",
    "codes <- dat %>% group_by(NAICS) %>% summarize(size = n()) %>% arrange(desc(size)) %>% head(15) %>% pull(NAICS)"
   ]
  },
  {
   "cell_type": "markdown",
   "metadata": {},
   "source": [
    "# Mapping"
   ]
  },
  {
   "cell_type": "code",
   "execution_count": 8,
   "metadata": {},
   "outputs": [],
   "source": [
    "# Let's run a more complex calculation on the NAICS groups.\n",
    "# The native dplyr functions are great for basic exploration,\n",
    "# but a more general formula is to : group, map, combine.\n",
    "# Let's output a dataframe that has the ML-fitted Student-T distribution\n",
    "# parameters for the A_MEDIAN (median annual wage) variable, per NAICS code. "
   ]
  },
  {
   "cell_type": "code",
   "execution_count": null,
   "metadata": {},
   "outputs": [],
   "source": [
    "foo <- function(vals) {\n",
    "    f <- vals %>% na.omit() %>% fitdistr(\"t\", lower = c(0, 0.001, 1))\n",
    "    df <- reduce(f$estimate, cbind)\n",
    "    colnames(df) <- names(f$estimate)\n",
    "    df\n",
    "}\n",
    "\n",
    "dat %>% \n",
    "    filter(NAICS %in% codes) %>%\n",
    "    group_by(NAICS) %>% \n",
    "    do(foo(.$A_MEDIAN) %>% as_tibble())"
   ]
  },
  {
   "cell_type": "code",
   "execution_count": null,
   "metadata": {},
   "outputs": [],
   "source": [
    "dat %>% \n",
    "    filter(NAICS %in% codes) %>%\n",
    "    group_by(NAICS) %>% \n",
    "    do(mutate(., medmed = median(.$A_MEDIAN, na.rm=TRUE)))"
   ]
  },
  {
   "cell_type": "markdown",
   "metadata": {},
   "source": [
    "# Plotting"
   ]
  },
  {
   "cell_type": "code",
   "execution_count": null,
   "metadata": {},
   "outputs": [],
   "source": [
    "# Use ggplot2 to plot a kernel-density estimate of the wage distribution\n",
    "# among each NAICS code."
   ]
  }
 ],
 "metadata": {
  "kernelspec": {
   "display_name": "R",
   "language": "R",
   "name": "ir"
  },
  "language_info": {
   "codemirror_mode": "r",
   "file_extension": ".r",
   "mimetype": "text/x-r-source",
   "name": "R",
   "pygments_lexer": "r",
   "version": "3.4.1"
  },
  "name": "Untitled1.ipynb"
 },
 "nbformat": 4,
 "nbformat_minor": 2
}
