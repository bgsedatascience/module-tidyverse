{
 "cells": [
  {
   "cell_type": "code",
   "execution_count": null,
   "metadata": {
    "autoscroll": false,
    "ein.tags": "worksheet-0",
    "slideshow": {
     "slide_type": "-"
    }
   },
   "outputs": [],
   "source": [
    "library(readxl)\n",
    "library(MASS)\n",
    "library(magrittr)\n",
    "library(tidyverse)"
   ]
  },
  {
   "cell_type": "markdown",
   "metadata": {},
   "source": [
    "# Reading CSV's"
   ]
  },
  {
   "cell_type": "code",
   "execution_count": null,
   "metadata": {},
   "outputs": [],
   "source": [
    "# Use read.csv and read_csv to read the files \"data/foo.csv\"\n",
    "# Note two differences: \n",
    "# 1. The information read_csv gives about the type of each column\n",
    "# 2. The difference in the type of the baz column (how do you get the\n",
    "# type of a column in a dataframe?)"
   ]
  },
  {
   "cell_type": "markdown",
   "metadata": {},
   "source": [
    "# Transforming Data"
   ]
  },
  {
   "cell_type": "code",
   "execution_count": null,
   "metadata": {
    "autoscroll": false,
    "ein.tags": "worksheet-0",
    "slideshow": {
     "slide_type": "-"
    }
   },
   "outputs": [],
   "source": [
    "# Read the data from the file 'data/oesm10in4/nat3d_M2010_dl.xls'\n",
    "# using read_excel to create a tibble. \n",
    "# Notice that in Jupyter Notebooks, pressing TAB will give you\n",
    "# autocomplete help with the filename"
   ]
  },
  {
   "cell_type": "code",
   "execution_count": null,
   "metadata": {
    "autoscroll": false,
    "ein.tags": "worksheet-0",
    "slideshow": {
     "slide_type": "-"
    }
   },
   "outputs": [],
   "source": [
    "# In Jupyter Notebooks, you will need to explicitly use the\n",
    "# print() function in order to see the tibble-specific info.\n",
    "# Try printing the dataframe you read in. Try to understand\n",
    "# the types of the different columns. Are these the types\n",
    "# that make sense for the column? "
   ]
  },
  {
   "cell_type": "code",
   "execution_count": null,
   "metadata": {},
   "outputs": [],
   "source": [
    "# Change the type of the NAICS columns to a factor"
   ]
  },
  {
   "cell_type": "code",
   "execution_count": null,
   "metadata": {
    "autoscroll": false,
    "ein.tags": "worksheet-0",
    "slideshow": {
     "slide_type": "-"
    }
   },
   "outputs": [],
   "source": [
    "# Now try and get the 15 most common NAICS codes, as a vector"
   ]
  },
  {
   "cell_type": "code",
   "execution_count": null,
   "metadata": {},
   "outputs": [],
   "source": [
    "# Filter your data to include only the 15 most common NAICS codes\n",
    "# hint: take a look at the %in% infix operator"
   ]
  },
  {
   "cell_type": "code",
   "execution_count": null,
   "metadata": {},
   "outputs": [],
   "source": [
    "# Create a function that you can use with summarize()\n",
    "# This function should select the nth largest value in the given column/group\n",
    "# hint: the function should take a vector and return a scalar\n",
    "\n",
    "get_largest <- function(vals, n) {\n",
    "    \n",
    "}\n",
    "\n",
    "# use your function on one of the columns (i.e. A_MEDIAN)"
   ]
  },
  {
   "cell_type": "code",
   "execution_count": null,
   "metadata": {},
   "outputs": [],
   "source": [
    "# Create another function that you can use with summarize. This one should: \n",
    "\n",
    "# fit a Cauchy distribution via ML to the given values, \n",
    "# i.e.: fitdistr(x, \"cauchy\")\n",
    "\n",
    "# take a second parameter, \"param\", which should control which\n",
    "# parameter of cauchy distribution is returned\n",
    "# param should be one of the following character values: {\"location\", \"scale\"}\n",
    "# hint: you will need to get rid of NA values!\n",
    "\n",
    "get_cauchy <- function(vals, param) {\n",
    "\n",
    "}    "
   ]
  },
  {
   "cell_type": "code",
   "execution_count": null,
   "metadata": {},
   "outputs": [],
   "source": [
    "# Test your previous function!\n",
    "\n",
    "out <- get_cauchy(rnorm(300, 100, 20), \"location\")\n",
    "stopifnot(round(out, -1) == 100)"
   ]
  },
  {
   "cell_type": "markdown",
   "metadata": {},
   "source": [
    "# Plotting"
   ]
  },
  {
   "cell_type": "code",
   "execution_count": 267,
   "metadata": {},
   "outputs": [],
   "source": [
    "# Use ggplot2 to plot a kernel-density estimate of the wage distribution (given by A_MEDIAN)\n",
    "# for each NAICS code."
   ]
  }
 ],
 "metadata": {
  "kernelspec": {
   "display_name": "R",
   "language": "R",
   "name": "ir"
  },
  "language_info": {
   "codemirror_mode": "r",
   "file_extension": ".r",
   "mimetype": "text/x-r-source",
   "name": "R",
   "pygments_lexer": "r",
   "version": "3.4.1"
  },
  "name": "Untitled1.ipynb"
 },
 "nbformat": 4,
 "nbformat_minor": 2
}
